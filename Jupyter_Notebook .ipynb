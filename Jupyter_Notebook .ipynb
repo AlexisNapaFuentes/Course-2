{
 "cells": [
  {
   "cell_type": "markdown",
   "metadata": {},
   "source": [
    "<center>\n",
    "    <img src=\"https://s3-api.us-geo.objectstorage.softlayer.net/cf-courses-data/CognitiveClass/Logos/organization_logo/organization_logo.png\" width=\"300\" alt=\"cognitiveclass.ai logo\"  />\n",
    "</center>\n"
   ]
  },
  {
   "cell_type": "markdown",
   "metadata": {
    "tags": []
   },
   "source": [
    "# Mi Jupiter Notebook on IBM Watson Studio"
   ]
  },
  {
   "cell_type": "markdown",
   "metadata": {},
   "source": [
    "### Alexis Napa\n",
    "100% Human Data Scientist"
   ]
  },
  {
   "cell_type": "markdown",
   "metadata": {},
   "source": [
    "##### *I am interested in data science because I like to predict with arguments*"
   ]
  },
  {
   "cell_type": "markdown",
   "metadata": {},
   "source": [
    "### The following code is to draw bifurcation graph on logistic map "
   ]
  },
  {
   "cell_type": "code",
   "execution_count": 4,
   "metadata": {},
   "outputs": [
    {
     "name": "stderr",
     "output_type": "stream",
     "text": [
      "100%|██████████| 1100/1100 [00:00<00:00, 5113.78it/s] \n"
     ]
    },
    {
     "data": {
      "image/png": "[encoded data removed]",
      "text/plain": [
       "<Figure size 432x288 with 1 Axes>"
      ]
     },
     "metadata": {
      "needs_background": "light"
     },
     "output_type": "display_data"
    }
   ],
   "source": [
    "from tqdm import tqdm\n",
    "import matplotlib.pyplot as plt\n",
    "import numpy as np\n",
    "\n",
    "\n",
    "def LogisticMap():\n",
    "    mu = np.arange(2, 4, 0.0001)\n",
    "    x = 0.2  # Valor inicial\n",
    "    iters = 1000  # Número de iteraciones sin salida\n",
    "    last = 100  # Finalmente dibuje el número de iteraciones del resultado\n",
    "    for i in tqdm(range(iters+last)):\n",
    "        x = mu * x * (1 - x)\n",
    "        if i >= iters:\n",
    "            plt.plot(mu, x, ',k', alpha=0.25)  # alphaSet transparencia\n",
    "    plt.show()\n",
    "\n",
    "\n",
    "LogisticMap()\n"
   ]
  },
  {
   "cell_type": "markdown",
   "metadata": {},
   "source": [
    "\n",
    " * One\n",
    " * Two\n",
    " * Three\n",
    " * One\n",
    " * Two\n",
    " * Three\n",
    "\n",
    "\n",
    "\n",
    "### Markdown Less Pretty\n",
    "---\n",
    "*Still*  ```Renders``` **Nicely** \n",
    "\n",
    "1 2 3\n"
   ]
  }
 ],
 "metadata": {
  "kernelspec": {
   "display_name": "Python",
   "language": "python",
   "name": "conda-env-python-py"
  },
  "language_info": {
   "codemirror_mode": {
    "name": "ipython",
    "version": 3
   },
   "file_extension": ".py",
   "mimetype": "text/x-python",
   "name": "python",
   "nbconvert_exporter": "python",
   "pygments_lexer": "ipython3",
   "version": "3.7.12"
  }
 },
 "nbformat": 4,
 "nbformat_minor": 4
}
